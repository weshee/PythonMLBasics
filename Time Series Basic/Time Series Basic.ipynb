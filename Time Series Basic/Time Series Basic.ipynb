{
 "cells": [
  {
   "cell_type": "markdown",
   "metadata": {},
   "source": [
    "## Table of Contents\n",
    "- <a href='#1'>1. Working with time in Python</a>\n",
    "    - <a href='#1.1'>1.1 Dates & Times</a>\n",
    "    - <a href='#1.2'>1.2 Reading and working with time-based data</a>\n",
    "    - <a href='#1.3'>1.3 Resampling</a>\n",
    "    - <a href='#1.4'>1.4 Moving window functions</a>\n",
    "    - <a href='#1.5'>1.5 Time series decomposition</a>\n",
    "- <a href='#2'>2. Statistical Model for Time Series</a>\n",
    "    - <a href='#2.1'>2.1 Ordinary Linear Regression</a>\n",
    "    - <a href='#2.2'>2.2 Autocorrelation</a>\n",
    "    - <a href='#2.3'>2.3 ADF</a>\n",
    "    - <a href='#2.4'>2.4 MR Model</a>\n",
    "    - <a href='#2.5'>2.5 AR Model</a>\n",
    "- <a href='#3'>3. Machine learning with time series</a>\n",
    "    - <a href='#3.1'>3.1 Feature Generation</a>\n",
    "\n",
    "## References\n",
    "1. [Practical Times Series Analysis](https://github.com/PracticalTimeSeriesAnalysis/BookRepo) by Aileen Nielsen\n",
    "2. [Time Series Analysis with Python Intermediate | SciPy 2016 Tutorial](https://www.youtube.com/watch?v=JNfxr4BQrLk) by Aileen Nielsen\n",
    "3. [Kaggle](https://www.kaggle.com/thebrownviking20/everything-you-can-do-with-a-time-series/data?)\n",
    "4. [Jason Brownlee](https://machinelearningmastery.com/gentle-introduction-autocorrelation-partial-autocorrelation/)"
   ]
  },
  {
   "cell_type": "code",
   "execution_count": 16,
   "metadata": {},
   "outputs": [],
   "source": [
    "# Import library\n",
    "%matplotlib inline \n",
    "import matplotlib.pylab\n",
    "import pandas as pd\n",
    "import numpy as np\n",
    "import pandas_datareader.data as web\n",
    "from sklearn.metrics import mean_absolute_error, mean_squared_error"
   ]
  },
  {
   "cell_type": "markdown",
   "metadata": {},
   "source": [
    "# <a id='1'>1. Working with time in Python</a>\n",
    "## <a id='1.1'>1.1 Dates & Times</a>\n",
    "[Pandas documentation](https://pandas.pydata.org/pandas-docs/stable/user_guide/timeseries.html)"
   ]
  },
  {
   "cell_type": "code",
   "execution_count": null,
   "metadata": {},
   "outputs": [],
   "source": [
    "# Generate series of times\n",
    "rng = pd.date_range(end='2020 Jul 25', periods=29, freq = '-8H', normalize=True)\n",
    "type(rng[0])                        # pandas._libs.tslibs.timestamps.Timestamp\n",
    "\n",
    "\n",
    "# Timestamp\n",
    "t = pd.Timestamp('7/21/2016')       # Timestamp('2016-07-10 20:00:00')\n",
    "t.quarter                           \n",
    "t.dayofweek  \n",
    "\n",
    "\n",
    "# Timespan\n",
    "p = pd.Period('7/2016')             # Period('2016-07', 'M')\n",
    "p.start_time < t and p.end_time > t # timestamp falls within a given period\n",
    "rng_period = pd.period_range('2016-01-01 12:15', freq = 'H', periods = 10)\n",
    "\n",
    "\n",
    "# Timedelta\n",
    "delta_h = pd.Timedelta('1.5 hours')\n",
    "t + delta_h                         # Timestamp('2016-07-21 01:30:00')\n",
    "rng + pd.Timedelta('1day')          # Addition works for range too\n",
    "\n",
    "\n",
    "# Index a time series with a date_range\n",
    "ts_dt = pd.Series(range(40), pd.date_range('2016-07-01 11:15', freq = '60T', periods=40))  # DateTimeindex\n",
    "type(ts_dt.index)                   # pandas.core.indexes.datetimes.DatetimeIndex\n",
    "type(ts_dt.index[0])                # pandas._libs.tslibs.timestamps.Timestamp\n",
    "ts_pd = ts_dt.to_period(freq='60T') # PeriodIndex (no seconds in PeriodIndex)\n",
    "\n",
    "\n",
    "# pd.Timestamp with a European style formatted date string\n",
    "dt_eur = pd.to_datetime('4/3/2016', dayfirst = True)\n",
    "dt_eur_str = dt_eur.strftime(format='%Y')             # Convert to string"
   ]
  },
  {
   "cell_type": "markdown",
   "metadata": {},
   "source": [
    "## <a id='1.2'>1.2 Reading and working with time-based data</a>"
   ]
  },
  {
   "cell_type": "code",
   "execution_count": 36,
   "metadata": {},
   "outputs": [],
   "source": [
    "data = pd.read_fwf('data/ao_monthly.txt', header = None,\n",
    "                   index_col = 0, parse_dates = [[0, 1]],\n",
    "                   infer_datetime_format = True)\n",
    "data.index.names = ['Month']\n",
    "data.columns = ['Value']\n",
    "\n",
    "print(min(data.index))\n",
    "print(max(data.index))\n",
    "\n",
    "\n",
    "# Convert to complementary representation\n",
    "data.to_period()\n",
    "\n",
    "\n",
    "# Truncating\n",
    "ts = pd.Series(range(10), index = pd.date_range('7/31/15', freq = 'M', periods = 10))\n",
    "ts.truncate(before = '10/31/2015', after = '12/31/2015')\n",
    "ts[[1, 6, 7]].index\n",
    "ts[0:10:2]"
   ]
  },
  {
   "cell_type": "markdown",
   "metadata": {},
   "source": [
    "## <a id='1.3'>1.3 Resampling</a>"
   ]
  },
  {
   "cell_type": "code",
   "execution_count": 38,
   "metadata": {},
   "outputs": [],
   "source": [
    "# Convert into more frequent. - Forward fill\n",
    "# method : {‘backfill’, ‘bfill’, ‘pad’, ‘ffill’, None}\n",
    "rng = pd.date_range('1/1/2011', periods = 72, freq = 'H')\n",
    "ts = pd.Series(list(range(len(rng))), index = rng)\n",
    "converted = ts.asfreq('45Min', method = 'ffill')\n",
    "\n",
    "\n",
    "# .resample is more flexible. It is almost equivalent to groupby\n",
    "ts.resample('2H').mean()[1:10]\n",
    "\n",
    "\n",
    "# Downsample without using ffill or bfill\n",
    "irreg_ts = ts[list(np.random.choice(a=list(range(len(ts))), size=10, replace=False))]\n",
    "irreg_ts = irreg_ts.sort_index()\n",
    "\n",
    "irreg_ts.resample('H').fillna(method='ffill', limit=5)\n",
    "irreg_ts.resample('H').count()\n"
   ]
  },
  {
   "cell_type": "markdown",
   "metadata": {},
   "source": [
    "## <a id='1.4'>1.4 Moving Window Functions</a>\n",
    "\n",
    "The special thing about time series is that data points relate to one another... They are not independent\n",
    "So we can to compare them and relate them. One way to do this is to look at how they change.\n",
    "For example, we can 'difference' a time series\n",
    "\n",
    "Window functions are like aggregation functions.\n",
    "\n",
    "You can use them in conjunction with .resample() which will soon be a deferred operation\n",
    "\n",
    "### Expanding windows\n",
    "Yields the value of the statistic with all the data available up to that point in time"
   ]
  },
  {
   "cell_type": "code",
   "execution_count": null,
   "metadata": {},
   "outputs": [],
   "source": [
    "# Shifting time\n",
    "ts = pd.Series(np.random.randn(20), pd.date_range('7/1/16', freq='H', periods=20))\n",
    "ts_lagged = ts.shift(5)\n",
    "\n",
    "\n",
    "# Rolling function\n",
    "# r.agg, r.apply, r.count, r.exclusions, r.max, r.median, r.name, r.quantile, \n",
    "# r.kurt, r.cov, r.corr, r.aggregate, r.std, r.skew, r.sum, r.var\n",
    "df = pd.DataFrame(np.random.randn(600, 3), \n",
    "                  index = pd.date_range('5/1/2016', freq = 'S', periods = 600), \n",
    "                  columns = ['A', 'B', 'C'])\n",
    "r = df.rolling(window = 20)\n",
    "r['A'].agg(['sum', 'var'])\n",
    "df.rolling(window=10, center=False).apply(lambda x: x[1]/x[2])\n",
    "\n",
    "\n",
    "# Generate a rolling window function of monthly data from daily data\n",
    "ts_long = pd.Series(np.random.randn(200), pd.date_range('7/1/16', freq='D', periods=200))\n",
    "ts_long.resample('M').mean().rolling(window=3).mean().plot()\n",
    "\n",
    "\n",
    "# Expanding window\n",
    "df.expanding(min_periods = 1).mean()\n",
    "\n",
    "\n",
    "# Exponentially weighted\n",
    "ts = pd.Series(np.random.randn(1000), index=pd.date_range(start='1/1/16', freq='D', periods=1000))\n",
    "ts.ewm(span=60, min_periods=0, adjust=True).mean().plot()\n",
    "ts.rolling(window=60).mean().plot()"
   ]
  },
  {
   "cell_type": "markdown",
   "metadata": {},
   "source": [
    "## <a id='1.5'>1.5 Time Series Decomposition</a>\n",
    "\n",
    "When visualizing time series data, you should look out for some distinguishable patterns:\n",
    "\n",
    "  * seasonality: does the data display a clear periodic pattern?\n",
    "  * trend: does the data follow a consistent upwards or downward slope?\n",
    "  * noise: are there any outlier points or missing values that are not consistent with the rest of the data?\n",
    "\n",
    "You can rely on a method known as time-series decomposition to automatically extract and quantify the structure of time-series data. The statsmodels library provides the seasonal_decompose() function to perform time series decomposition out of the box.\n",
    "\n",
    "* decomposition = sm.tsa.seasonal_decompose(time_series)\n",
    "\n",
    "You can extract a specific component, for example seasonality, by accessing the seasonal attribute of the decomposition object.\n",
    "\n",
    "* seasonal = decomposition.seasonal\n",
    "* observed = decomposition.observed\n",
    "* trend = decomposition.trend\n",
    "* residuals = decomposition.resid"
   ]
  },
  {
   "cell_type": "code",
   "execution_count": null,
   "metadata": {},
   "outputs": [],
   "source": [
    "# Import statsmodels.api as sm\n",
    "import statsmodels.api as sm\n",
    "\n",
    "# Perform time series decompositon\n",
    "decomposition = sm.tsa.seasonal_decompose(co2_levels)\n",
    "\n",
    "# Print the seasonality component\n",
    "print(decomposition.seasonal)"
   ]
  },
  {
   "cell_type": "markdown",
   "metadata": {},
   "source": [
    "# <a id='2'>2. Statistical Model for Time Series</a>\n",
    "## <a id='2.1'>2.1 Ordinary Linear Regression</a>"
   ]
  },
  {
   "cell_type": "code",
   "execution_count": null,
   "metadata": {},
   "outputs": [],
   "source": [
    "# In statsmodels:\n",
    "import statsmodels.api as sm\n",
    "# Convert the Series x to a DataFrame and name the column x\n",
    "dfx = pd.DataFrame(x, columns=['x'])\n",
    "dfx1 = sm.add_constant(dfx)  # Add a constant to the DataFrame dfx\n",
    "sm.OLS(y, dfx1).fit()\n",
    "\n",
    "# In numpy:\n",
    "np.polyfit(x, y, deg=1)\n",
    "\n",
    "# In pandas:\n",
    "pd.ols(y, x)\n",
    "\n",
    "# In scipy:\n",
    "from scipy import stats\n",
    "stats.Linregress(x, y)"
   ]
  },
  {
   "cell_type": "markdown",
   "metadata": {},
   "source": [
    "## <a id='2.2'>2.2 Autocorrelation</a>\n",
    "\n",
    "* Mean Reversion - Negative autocorrelation\n",
    "* Momentum, or Trend Following - Positive autocorrelation\n",
    "\n",
    "Two diagnostic plots can be used to help choose the p and q parameters of the ARMA or ARIMA. They are:\n",
    "* Autocorrelation Function (ACF). The plot summarizes the correlation of an observation with lag values. The x-axis shows the lag and the y-axis shows the correlation coefficient between -1 and 1 for negative and positive correlation.\n",
    "* Partial Autocorrelation Function (PACF). The plot summarizes the correlations for an observation with lag values that is not accounted for by prior lagged observations. Contrary to autocorrelation, partial autocorrelation removes the effect of previous time points\n",
    "\n",
    "Both plots are drawn as bar charts showing the 95% and 99% confidence intervals as horizontal lines. Bars that cross these confidence intervals are therefore more significant and worth noting. Some useful patterns you may observe on these plots are:\n",
    "* The model is AR if the ACF trails off after a lag and has a hard cut-off in the PACF after a lag. This lag is taken as the value for p.\n",
    "* The model is MA if the PACF trails off after a lag and has a hard cut-off in the ACF after the lag. This lag value is taken as the value for q.\n",
    "* ThemodelisamixofARandMAifboththeACFandPACFtrailoff."
   ]
  },
  {
   "cell_type": "code",
   "execution_count": null,
   "metadata": {},
   "outputs": [],
   "source": [
    "from statsmodels.graphics.tsaplots import plot_acf, acf\n",
    "plot_acf(x, lags=20, alpha=0.05)\n",
    "print(acf(x))"
   ]
  },
  {
   "cell_type": "markdown",
   "metadata": {},
   "source": [
    "## <a id='2.3'>2.3 ADF</a>\n",
    "### Statistical test for random walk\n",
    "* From Datacamp\n",
    "* Regression test for random walk\n",
    " <br> $P_{t}$ = α + β $P_{t-1}$ + $ε_{t}$\n",
    " * Equivalent to\n",
    "   <br> $P_{t}$ − $P_{t-1}$ = α + β $P_{t-1}$ +$ε_{t}$\n",
    " * Test: $H_{0}$ : β = 0 (random walk) $H_{1}$ : β < 0 (not random walk)\n",
    "* With the ADF test, the \"null hypothesis\" (the hypothesis that we either reject or fail to reject) is that the series follows a random walk. Therefore, a low p-value (say less than 5%) means we can reject the null hypothesis that the series is a random walk.\n",
    "\n",
    "The null hypothesis of the test is that the time series is non-stationary (e.g. random walk, seasonality in series).\n",
    "\n",
    "* Null Hypothesis (H0): Fail to reject, it suggests the time series has a unit root, meaning it is non-stationary. It has some time dependent structure.\n",
    "* Alternate Hypothesis (H1): The null hypothesis is rejected; it suggests the time series does not have a unit root, meaning it is stationary (e.g. white noise). It does not have time-dependent structure.\n",
    "\n",
    "A p-value below a threshold (such as 5% or 1%) suggests we reject the null hypothesis (stationary), otherwise a p-value above the threshold suggests we fail to reject the null hypothesis (non-stationary)."
   ]
  },
  {
   "cell_type": "code",
   "execution_count": null,
   "metadata": {},
   "outputs": [],
   "source": [
    "# Generate 500 random steps\n",
    "steps = np.random.normal(loc=0.001, scale=0.01, size=500) + 1\n",
    "\n",
    "# Set first element to 1\n",
    "steps[0]=1\n",
    "\n",
    "# Simulate the stock price, P, by taking the cumulative product\n",
    "P = 100 * np.cumprod(steps)\n",
    "\n",
    "# Plot the simulated stock prices\n",
    "plt.plot(P)\n",
    "plt.title(\"Simulated Random Walk with Drift\")\n",
    "plt.show()\n",
    "\n",
    "# Import the adfuller module from statsmodels\n",
    "from statsmodels.tsa.stattools import adfuller\n",
    "\n",
    "# Run the ADF test on the price series and print out the results\n",
    "results = adfuller(AMZN['Adj Close'])\n",
    "\n",
    "# The p-value of the test (results[0] is the test statistic, and results[1] is the p-value).\n",
    "print('The p-value of the test on prices is: ' + str(results[1]))"
   ]
  },
  {
   "cell_type": "markdown",
   "metadata": {},
   "source": [
    "## <a id='2.4'>2.4 AR Model</a>\n",
    "The autoregressive (AR) model relies on the intuition that the past predicts the future and so posits a time series process in which the value at a point in time t is a function of the series’s values at earlier points in time.\n",
    "* AR(1) Model: R = μ + φ $R_{t-1}$ + $ε_{t}$\n",
    "<br> φ = 1 is random walk, φ = 0 is white noise\n",
    "<br> Negative φ: Mean\n",
    "<br> Reversion Positive φ: Momentum\n",
    "\n",
    "The autocorrelation function decays exponentially for an AR time series at a rate of the AR parameter. For example, if the AR parameter, ϕ = +0.9, the first-lag autocorrelation will be 0.9, the second-lag will be $(0.9)^{2}$=0.81, the third-lag will be $(0.9)^{3}$ = 0.729, etc. \n",
    "<br> A smaller AR parameter will have a steeper decay, and for a negative AR parameter, say -0.9, the decay will flip signs, so the first-lag autocorrelation will be -0.9, the second-lag will be $(0.9)^{2}$=0.81, the third-lag will be $(0.9)^{3}$ = -0.729, etc. \n",
    "<img src=\"AR Autocorrelation.png\" width=\"600\">"
   ]
  },
  {
   "cell_type": "code",
   "execution_count": 6,
   "metadata": {},
   "outputs": [
    {
     "data": {
      "image/png": "[encoded data removed]",
      "text/plain": [
       "<Figure size 432x288 with 1 Axes>"
      ]
     },
     "metadata": {
      "needs_background": "light"
     },
     "output_type": "display_data"
    },
    {
     "data": {
      "image/png": "[encoded data removed]",
      "text/plain": [
       "<Figure size 432x288 with 1 Axes>"
      ]
     },
     "metadata": {
      "needs_background": "light"
     },
     "output_type": "display_data"
    },
    {
     "name": "stdout",
     "output_type": "stream",
     "text": [
      "                              ARMA Model Results                              \n",
      "==============================================================================\n",
      "Dep. Variable:                      y   No. Observations:                 1000\n",
      "Model:                     ARMA(1, 0)   Log Likelihood               -1391.543\n",
      "Method:                       css-mle   S.D. of innovations              0.972\n",
      "Date:                Mon, 31 Aug 2020   AIC                           2789.085\n",
      "Time:                        21:14:25   BIC                           2803.808\n",
      "Sample:                             0   HQIC                          2794.681\n",
      "                                                                              \n",
      "==============================================================================\n",
      "                 coef    std err          z      P>|z|      [0.025      0.975]\n",
      "------------------------------------------------------------------------------\n",
      "const          0.0875      0.279      0.314      0.754      -0.459       0.634\n",
      "ar.L1.y        0.8907      0.014     62.428      0.000       0.863       0.919\n",
      "                                    Roots                                    \n",
      "=============================================================================\n",
      "                  Real          Imaginary           Modulus         Frequency\n",
      "-----------------------------------------------------------------------------\n",
      "AR.1            1.1227           +0.0000j            1.1227            0.0000\n",
      "-----------------------------------------------------------------------------\n",
      "When the true phi=0.9, the estimate of phi (and the constant) are:\n",
      "[0.08748814 0.8907092 ]\n"
     ]
    },
    {
     "ename": "NameError",
     "evalue": "name 'plot_acf' is not defined",
     "output_type": "error",
     "traceback": [
      "\u001b[0;31m---------------------------------------------------------------------------\u001b[0m",
      "\u001b[0;31mNameError\u001b[0m                                 Traceback (most recent call last)",
      "\u001b[0;32m<ipython-input-6-621a6283864f>\u001b[0m in \u001b[0;36m<module>\u001b[0;34m\u001b[0m\n\u001b[1;32m     31\u001b[0m \u001b[0;34m\u001b[0m\u001b[0m\n\u001b[1;32m     32\u001b[0m \u001b[0;31m# Plot 1: AR parameter = +0.9\u001b[0m\u001b[0;34m\u001b[0m\u001b[0;34m\u001b[0m\u001b[0;34m\u001b[0m\u001b[0m\n\u001b[0;32m---> 33\u001b[0;31m \u001b[0mplot_acf\u001b[0m\u001b[0;34m(\u001b[0m\u001b[0msimulated_data_1\u001b[0m\u001b[0;34m,\u001b[0m \u001b[0malpha\u001b[0m\u001b[0;34m=\u001b[0m\u001b[0;36m1\u001b[0m\u001b[0;34m,\u001b[0m \u001b[0mlags\u001b[0m\u001b[0;34m=\u001b[0m\u001b[0;36m20\u001b[0m\u001b[0;34m)\u001b[0m\u001b[0;34m\u001b[0m\u001b[0;34m\u001b[0m\u001b[0m\n\u001b[0m\u001b[1;32m     34\u001b[0m \u001b[0mplt\u001b[0m\u001b[0;34m.\u001b[0m\u001b[0mshow\u001b[0m\u001b[0;34m(\u001b[0m\u001b[0;34m)\u001b[0m\u001b[0;34m\u001b[0m\u001b[0;34m\u001b[0m\u001b[0m\n\u001b[1;32m     35\u001b[0m \u001b[0;34m\u001b[0m\u001b[0m\n",
      "\u001b[0;31mNameError\u001b[0m: name 'plot_acf' is not defined"
     ]
    }
   ],
   "source": [
    "# Simulating an AR Process\n",
    "from statsmodels.tsa.arima_process import ArmaProcess\n",
    "import matplotlib.pyplot as plt\n",
    "import numpy as np\n",
    "\n",
    "# Plot 1: AR parameter = +0.9\n",
    "plt.subplot(2,1,1)\n",
    "ar1 = np.array([1, -0.9])\n",
    "ma1 = np.array([1])\n",
    "AR_object1 = ArmaProcess(ar1, ma1)\n",
    "simulated_data_1 = AR_object1.generate_sample(nsample=1000)\n",
    "plt.plot(simulated_data_1)\n",
    "\n",
    "# Import the ARMA module from statsmodels\n",
    "from statsmodels.tsa.arima_model import ARMA\n",
    "\n",
    "# Fit an AR(1) model to the first simulated data\n",
    "mod = ARMA(simulated_data_1, order=(1, 0))\n",
    "res = mod.fit()\n",
    "res.plot_predict(start=990, end=1010)\n",
    "plt.show()\n",
    "\n",
    "# Print out summary information on the fit\n",
    "print(res.summary())\n",
    "\n",
    "# Print out the estimate for the constant and for phi\n",
    "print(\"When the true phi=0.9, the estimate of phi (and the constant) are:\")\n",
    "print(res.params)\n",
    "\n",
    "# Plot ACF\n",
    "\n",
    "# Plot 1: AR parameter = +0.9\n",
    "plot_acf(simulated_data_1, alpha=1, lags=20)\n",
    "plt.show()\n",
    "\n",
    "# Plot PACF for AR(1)\n",
    "plot_pacf(simulated_data_1, lags=20)\n",
    "plt.show()"
   ]
  },
  {
   "cell_type": "markdown",
   "metadata": {},
   "source": [
    "## Estimate Order of Model: Information Criteria\n",
    "\n",
    "Another tool to identify the order of a model is to look at the Akaike Information Criterion (AIC) and the Bayesian Information Criterion (BIC). These measures compute the goodness of fit with the estimated parameters, but apply a penalty function on the number of parameters in the model. You will take the AR(2) simulated data from the last exercise, saved as simulated_data_2, and compute the BIC as you vary the order, p, in an AR(p) from 0 to 6."
   ]
  },
  {
   "cell_type": "code",
   "execution_count": null,
   "metadata": {},
   "outputs": [],
   "source": [
    "# Import the module for estimating an ARMA model\n",
    "from statsmodels.tsa.arima_model import ARMA\n",
    "\n",
    "# Fit the data to an AR(p) for p = 0,...,6 , and save the BIC\n",
    "BIC = np.zeros(7)\n",
    "for p in range(7):\n",
    "    mod = ARMA(simulated_data_2, order=(p,0))\n",
    "    res = mod.fit()\n",
    "# Save BIC for AR(p)    \n",
    "    BIC[p] = res.bic\n",
    "    \n",
    "# Plot the BIC as a function of p\n",
    "plt.plot(range(1,7), BIC[1:7], marker='o')\n",
    "plt.xlabel('Order of AR Model')\n",
    "plt.ylabel('Bayesian Information Criterion')\n",
    "plt.show()"
   ]
  },
  {
   "cell_type": "markdown",
   "metadata": {},
   "source": [
    "## <a id='2.5'>2.5 MR Model</a>\n",
    "\n",
    "* MR Model: R = μ + φ $ε_{t}$ + θ $ε_{t-1}$\n",
    "<br> Negative θ: One-Period Mean Reversion\n",
    "<br> Positive θ: One-Period Momentum\n",
    "<br> Note: One-period autocorrelation is θ/(1 + $θ^{2}$), not θ\n",
    "\n",
    "An autoregression of the residual error time series is called a Moving Average (MA) model. This is confusing because it has nothing to do with the moving average smoothing process. Think of it as the sibling to the autoregressive (AR) process, except on lagged residual error rather than lagged raw observations.\n",
    "\n",
    "Unlike an AR(1), an MA(1) model has no autocorrelation beyond lag 1, an MA(2) model has no autocorrelation beyond lag 2, etc. The lag-1 autocorrelation for an MA(1) model is not θ, but rather θ/(1 + $θ^{2}$). For example, if the MA parameter, θ, is = +0.9, the first-lag autocorrelation will be 0.9/(1 + $(0.9)^{2}$)=0.497.\n",
    "\n",
    "<img src=\"MR Autocorrelation.png\" width=\"600\">"
   ]
  },
  {
   "cell_type": "code",
   "execution_count": null,
   "metadata": {},
   "outputs": [],
   "source": [
    "# import the module for simulating data\n",
    "from statsmodels.tsa.arima_process import ArmaProcess\n",
    "\n",
    "# Plot 1: MA parameter = -0.9\n",
    "plt.subplot(2,1,1)\n",
    "ar1 = np.array([1])\n",
    "ma1 = np.array([1, -0.9])\n",
    "MA_object1 = ArmaProcess(ar1, ma1)\n",
    "simulated_data_1 = MA_object1.generate_sample(nsample=1000)\n",
    "plt.plot(simulated_data_1)\n",
    "\n",
    "# Import the ARMA module from statsmodels\n",
    "from statsmodels.tsa.arima_model import ARMA\n",
    "\n",
    "# Forecast the first MA(1) model\n",
    "mod = ARMA(simulated_data_1, order=(0,1))\n",
    "res = mod.fit()\n",
    "res.plot_predict(start=990, end=1010)\n",
    "plt.show()"
   ]
  },
  {
   "cell_type": "code",
   "execution_count": 42,
   "metadata": {},
   "outputs": [
    {
     "name": "stdout",
     "output_type": "stream",
     "text": [
      "scipy: 1.4.1\n",
      "numpy: 1.18.1\n",
      "matplotlib: 3.1.3\n",
      "pandas: 1.0.1\n",
      "statsmodels: 0.11.0\n",
      "sklearn: 0.22.1\n"
     ]
    }
   ],
   "source": [
    "import scipy\n",
    "print('scipy: %s' % scipy.__version__)\n",
    "# numpy\n",
    "import numpy\n",
    "print('numpy: %s' % numpy.__version__)\n",
    "# matplotlib\n",
    "import matplotlib\n",
    "print('matplotlib: %s' % matplotlib.__version__)\n",
    "# pandas\n",
    "import pandas\n",
    "print('pandas: %s' % pandas.__version__)\n",
    "# statsmodels\n",
    "import statsmodels\n",
    "print('statsmodels: %s' % statsmodels.__version__) # scikit-learn\n",
    "import sklearn\n",
    "print('sklearn: %s' % sklearn.__version__)\n"
   ]
  },
  {
   "cell_type": "markdown",
   "metadata": {},
   "source": [
    "# Evaluate Model"
   ]
  },
  {
   "cell_type": "code",
   "execution_count": 18,
   "metadata": {},
   "outputs": [
    {
     "data": {
      "text/plain": [
       "0.14832396974191325"
      ]
     },
     "execution_count": 18,
     "metadata": {},
     "output_type": "execute_result"
    }
   ],
   "source": [
    "# Forecast Error\n",
    "expected = np.array([0.0, 0.5, 0.0, 0.5, 0.0])\n",
    "predictions = np.array([0.2, 0.4, 0.1, 0.6, 0.2])\n",
    "forecast_errors = expected - predictions\n",
    "\n",
    "# Mean Forecast Error (Forecast)\n",
    "bias = np.mean(forecast_errors)\n",
    "\n",
    "# Mean Absolute Error\n",
    "mae = mean_absolute_error(expected, predictions)\n",
    "\n",
    "# Mean Squared Error\n",
    "mse = mean_squared_error(expected, predictions)\n",
    "\n",
    "# Root Mean Squared Error\n",
    "rmse = np.sqrt(mse)\n",
    "rmse"
   ]
  },
  {
   "cell_type": "markdown",
   "metadata": {},
   "source": [
    "# <a id='3'>3. Machine Learning with Time Series</a>\n",
    "## <a id='3.1'>3.1 Feature Generation</a>"
   ]
  },
  {
   "cell_type": "code",
   "execution_count": null,
   "metadata": {},
   "outputs": [],
   "source": [
    "from cesium import featurize as ft\n",
    "features_to_use = [\"amplitude\", \"percent_beyond_1_std\", \"percent_close_to_median\", \"skew\", \"max_slope\"]\n",
    "fset_cesium = ft.featurize_time_series(times=eeg[\"times\"],\n",
    "                                              values=eeg[\"measurements\"],\n",
    "                                              errors=None,\n",
    "                                              features_to_use=features_to_use,\n",
    "                                              scheduler = None)"
   ]
  },
  {
   "cell_type": "code",
   "execution_count": null,
   "metadata": {},
   "outputs": [],
   "source": []
  }
 ],
 "metadata": {
  "kernelspec": {
   "display_name": "Python 3",
   "language": "python",
   "name": "python3"
  },
  "language_info": {
   "codemirror_mode": {
    "name": "ipython",
    "version": 3
   },
   "file_extension": ".py",
   "mimetype": "text/x-python",
   "name": "python",
   "nbconvert_exporter": "python",
   "pygments_lexer": "ipython3",
   "version": "3.7.6"
  }
 },
 "nbformat": 4,
 "nbformat_minor": 4
}
